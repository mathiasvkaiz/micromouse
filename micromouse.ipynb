{
 "cells": [
  {
   "cell_type": "markdown",
   "metadata": {},
   "source": [
    "# Machine Learning Engineer Nanodegree"
   ]
  },
  {
   "cell_type": "markdown",
   "metadata": {},
   "source": [
    "## Capstone Project - Code Base"
   ]
  },
  {
   "cell_type": "markdown",
   "metadata": {},
   "source": [
    "Mathias von Kaiz  \n",
    "August 1st, 2017"
   ]
  },
  {
   "cell_type": "markdown",
   "metadata": {},
   "source": [
    "**This code base is to evaluate functions, algorithms for developing the final Robot class.**"
   ]
  },
  {
   "cell_type": "code",
   "execution_count": 1,
   "metadata": {
    "collapsed": true
   },
   "outputs": [],
   "source": [
    "from maze import Maze\n",
    "#from robot import Robot\n",
    "import sys\n",
    "import numpy as np\n",
    "\n",
    "\n",
    "dir_mazes = {'maze1': 'test_maze_01.txt',\n",
    "            'maze2': 'test_maze_02.txt',\n",
    "            'maze3': 'test_maze_01.txt'}\n",
    "\n",
    "\n",
    "\n",
    "\n",
    "# global dictionaries for robot movement and sensing\n",
    "dir_sensors = {'u': ['l', 'u', 'r'], 'r': ['u', 'r', 'd'],\n",
    "               'd': ['r', 'd', 'l'], 'l': ['d', 'l', 'u'],\n",
    "               'up': ['l', 'u', 'r'], 'right': ['u', 'r', 'd'],\n",
    "               'down': ['r', 'd', 'l'], 'left': ['d', 'l', 'u']}\n",
    "dir_move = {'u': [0, 1], 'r': [1, 0], 'd': [0, -1], 'l': [-1, 0],\n",
    "            'up': [0, 1], 'right': [1, 0], 'down': [0, -1], 'left': [-1, 0]}\n",
    "dir_reverse = {'u': 'd', 'r': 'l', 'd': 'u', 'l': 'r',\n",
    "               'up': 'd', 'right': 'l', 'down': 'u', 'left': 'r'}\n",
    "\n",
    "# test and score parameters\n",
    "max_time = 1000\n",
    "train_score_mult = 1/30.\n",
    "\n",
    "\n"
   ]
  },
  {
   "cell_type": "code",
   "execution_count": null,
   "metadata": {
    "collapsed": true
   },
   "outputs": [],
   "source": [
    "class Robot(object):\n",
    "    def __init__(self, maze_dim):\n",
    "        '''\n",
    "        Use the initialization function to set up attributes that your robot\n",
    "        will use to learn and navigate the maze. Some initial attributes are\n",
    "        provided based on common information, including the size of the maze\n",
    "        the robot is placed in.\n",
    "        '''\n",
    "\n",
    "        self.location = [0, 0]\n",
    "        self.heading = 'up'\n",
    "        self.maze_dim = maze_dim\n",
    "        \n",
    "\n",
    "    def next_move(self, sensors):\n",
    "        '''\n",
    "        Use this function to determine the next move the robot should make,\n",
    "        based on the input from the sensors after its previous move. Sensor\n",
    "        inputs are a list of three distances from the robot's left, front, and\n",
    "        right-facing sensors, in that order.\n",
    "\n",
    "        Outputs should be a tuple of two values. The first value indicates\n",
    "        robot rotation (if any), as a number: 0 for no rotation, +90 for a\n",
    "        90-degree rotation clockwise, and -90 for a 90-degree rotation\n",
    "        counterclockwise. Other values will result in no rotation. The second\n",
    "        value indicates robot movement, and the robot will attempt to move the\n",
    "        number of indicated squares: a positive number indicates forwards\n",
    "        movement, while a negative number indicates backwards movement. The\n",
    "        robot may move a maximum of three units per turn. Any excess movement\n",
    "        is ignored.\n",
    "\n",
    "        If the robot wants to end a run (e.g. during the first training run in\n",
    "        the maze) then returing the tuple ('Reset', 'Reset') will indicate to\n",
    "        the tester to end the run and return the robot to the start.\n",
    "        '''\n",
    "\n",
    "        rotation = 0\n",
    "        movement = 0\n",
    "\n",
    "        print(sensors)\n",
    "        \n",
    "        return rotation, movement"
   ]
  },
  {
   "cell_type": "code",
   "execution_count": null,
   "metadata": {
    "collapsed": false
   },
   "outputs": [],
   "source": [
    "if __name__ == '__main__':\n",
    "    '''\n",
    "    This script tests a robot based on the code in robot.py on a maze given\n",
    "    as an argument when running the script.\n",
    "    '''\n",
    "\n",
    "    # Create a maze based on input argument on command line.\n",
    "    testmaze = Maze( str(dir_mazes['maze1']) )\n",
    "\n",
    "    # Intitialize a robot; robot receives info about maze dimensions.\n",
    "    testrobot = Robot(testmaze.dim)\n",
    "\n",
    "    # Record robot performance over two runs.\n",
    "    runtimes = []\n",
    "    total_time = 0\n",
    "    for run in range(2):\n",
    "        print \"Starting run {}.\".format(run)\n",
    "\n",
    "        # Set the robot in the start position. Note that robot position\n",
    "        # parameters are independent of the robot itself.\n",
    "        robot_pos = {'location': [0, 0], 'heading': 'up'}\n",
    "\n",
    "        run_active = True\n",
    "        hit_goal = False\n",
    "        while run_active:\n",
    "            # check for end of time\n",
    "            total_time += 1\n",
    "            if total_time > max_time:\n",
    "                run_active = False\n",
    "                print \"Allotted time exceeded.\"\n",
    "                break\n",
    "\n",
    "            # provide robot with sensor information, get actions\n",
    "            sensing = [testmaze.dist_to_wall(robot_pos['location'], heading)\n",
    "                       for heading in dir_sensors[robot_pos['heading']]]\n",
    "            rotation, movement = testrobot.next_move(sensing)\n",
    "\n",
    "            # check for a reset\n",
    "            if (rotation, movement) == ('Reset', 'Reset'):\n",
    "                if run == 0 and hit_goal:\n",
    "                    run_active = False\n",
    "                    runtimes.append(total_time)\n",
    "                    print \"Ending first run. Starting next run.\"\n",
    "                    break\n",
    "                elif run == 0 and not hit_goal:\n",
    "                    print \"Cannot reset - robot has not hit goal yet.\"\n",
    "                    continue\n",
    "                else:\n",
    "                    print \"Cannot reset on runs after the first.\"\n",
    "                    continue\n",
    "\n",
    "            # perform rotation\n",
    "            if rotation == -90:\n",
    "                robot_pos['heading'] = dir_sensors[robot_pos['heading']][0]\n",
    "            elif rotation == 90:\n",
    "                robot_pos['heading'] = dir_sensors[robot_pos['heading']][2]\n",
    "            elif rotation == 0:\n",
    "                pass\n",
    "            else:\n",
    "                print \"Invalid rotation value, no rotation performed.\"\n",
    "\n",
    "            # perform movement\n",
    "            if abs(movement) > 3:\n",
    "                print \"Movement limited to three squares in a turn.\"\n",
    "            movement = max(min(int(movement), 3), -3) # fix to range [-3, 3]\n",
    "            while movement:\n",
    "                if movement > 0:\n",
    "                    if testmaze.is_permissible(robot_pos['location'], robot_pos['heading']):\n",
    "                        robot_pos['location'][0] += dir_move[robot_pos['heading']][0]\n",
    "                        robot_pos['location'][1] += dir_move[robot_pos['heading']][1]\n",
    "                        movement -= 1\n",
    "                    else:\n",
    "                        print \"Movement stopped by wall.\"\n",
    "                        movement = 0\n",
    "                else:\n",
    "                    rev_heading = dir_reverse[robot_pos['heading']]\n",
    "                    if testmaze.is_permissible(robot_pos['location'], rev_heading):\n",
    "                        robot_pos['location'][0] += dir_move[rev_heading][0]\n",
    "                        robot_pos['location'][1] += dir_move[rev_heading][1]\n",
    "                        movement += 1\n",
    "                    else:\n",
    "                        print \"Movement stopped by wall.\"\n",
    "                        movement = 0\n",
    "\n",
    "            # check for goal entered\n",
    "            goal_bounds = [testmaze.dim/2 - 1, testmaze.dim/2]\n",
    "            if robot_pos['location'][0] in goal_bounds and robot_pos['location'][1] in goal_bounds:\n",
    "                hit_goal = True\n",
    "                if run != 0:\n",
    "                    runtimes.append(total_time - sum(runtimes))\n",
    "                    run_active = False\n",
    "                    print \"Goal found; run {} completed!\".format(run)\n",
    "\n",
    "    # Report score if robot is successful.\n",
    "    if len(runtimes) == 2:\n",
    "        print \"Task complete! Score: {:4.3f}\".format(runtimes[1] + train_score_mult*runtimes[0])"
   ]
  },
  {
   "cell_type": "code",
   "execution_count": 2,
   "metadata": {
    "collapsed": true
   },
   "outputs": [],
   "source": [
    "testmaze = Maze( str(dir_mazes['maze1']) )\n",
    "\n",
    "\n",
    "delta = ['up', 'right', 'down', 'left']\n",
    "delta_name = ['^', '>', 'v', '<']\n",
    "\n",
    "\n",
    "init = [0, 0]\n",
    "cost = 1"
   ]
  },
  {
   "cell_type": "code",
   "execution_count": 3,
   "metadata": {
    "collapsed": true
   },
   "outputs": [],
   "source": [
    "def get_heuristic(x, y, goal, is_heuristic=True):\n",
    "    value = 0\n",
    "    \n",
    "    if is_heuristic:\n",
    "        value = (abs(x - goal[0]) + abs(y - goal[1]))\n",
    "        \n",
    "    return value "
   ]
  },
  {
   "cell_type": "code",
   "execution_count": 10,
   "metadata": {
    "collapsed": true
   },
   "outputs": [],
   "source": [
    "def get_goal(maze):\n",
    "    goal_area = [maze.dim/2 - 1, maze.dim/2]\n",
    "    goal_entrance = goal_area\n",
    "    \n",
    "    for x in goal_area:\n",
    "        for y in goal_area:\n",
    "            for i in range(len(delta)):\n",
    "                if maze.is_permissible([x, y], delta[i]):\n",
    "                    goal_entrance = [x, y]\n",
    "                    \n",
    "    return goal_area, goal_entrance"
   ]
  },
  {
   "cell_type": "code",
   "execution_count": 11,
   "metadata": {
    "collapsed": false
   },
   "outputs": [],
   "source": [
    "def search(maze, init, cost, is_heuristic=True):\n",
    "    closed = [[0 for col in range(maze.dim)] for row in range(maze.dim)]\n",
    "    closed[init[0]][init[1]] = 1\n",
    "    \n",
    "    expand = [[-1 for col in range(maze.dim)] for row in range(maze.dim)]\n",
    "    action = [[-1 for col in range(maze.dim)] for row in range(maze.dim)]\n",
    "\n",
    "    goal_area, goal = get_goal(maze)\n",
    "    print (goal)\n",
    "    \n",
    "    x = init[0]\n",
    "    y = init[1]\n",
    "    g = 0\n",
    "    h = get_heuristic(x, y, goal, is_heuristic)\n",
    "    f = g + h\n",
    "    \n",
    "    open = [[f, h, g, x, y]]\n",
    "\n",
    "    found = False\n",
    "    resign = False\n",
    "    count = 0\n",
    "\n",
    "    print (\"Start\", x, y)\n",
    "    while not found and not resign:\n",
    "        if len(open) == 0:\n",
    "            resign = True\n",
    "            print (\"Failed as not path found\")\n",
    "\n",
    "        else:\n",
    "            open.sort()\n",
    "            open.reverse()\n",
    "            next = open.pop()\n",
    "            x = next[3]\n",
    "            y = next[4]\n",
    "            g = next[2]\n",
    "            \n",
    "            expand[x][y] = count\n",
    "            count += 1\n",
    "\n",
    "            # check if we are done\n",
    "            if x in goal_area and y in goal_area:\n",
    "                found = True\n",
    "                print (\"Goal found\", next)\n",
    "\n",
    "            else:\n",
    "                for i in range(len(delta)):\n",
    "                    heading = dir_move[delta[i]]\n",
    "                    \n",
    "                    x2 = x\n",
    "                    y2 = y\n",
    "\n",
    "                    if maze.is_permissible([x2, y2], delta[i]):\n",
    "                        #print (\"Open \" + delta[i], testmaze.is_permissible([x2, y2], delta[i]))\n",
    "                        #print (\"Heading \" + delta[i])\n",
    "                        \n",
    "                        x2 = x + heading[0]\n",
    "                        y2 = y + heading[1]\n",
    "                        #print (\"New Coords\", x2, y2)\n",
    "                        \n",
    "                        \n",
    "                        if closed[x2][y2] == 0:\n",
    "                            g2 = g + cost\n",
    "                            h2 = get_heuristic(x2, y2, goal, is_heuristic)\n",
    "                            f2 = g2 + h2\n",
    "                            \n",
    "                            open.append([f2, h2, g2, x2, y2])\n",
    "                            closed[x2][y2] = 1\n",
    "                            action[x2][y2] = i\n",
    "                            \n",
    "                        else:\n",
    "                            #print (\"Heading \" + delta[i], \"already closed\")\n",
    "                            pass\n",
    "                    \n",
    "                    else:\n",
    "                        #print (\"Heading \" + delta[i], \"movement stopped by wall\")\n",
    "                        pass\n",
    "                    \n",
    "    policy = [[' ' for col in range(maze.dim)] for row in range(maze.dim)]\n",
    "    x = goal[0]\n",
    "    y = goal[1]\n",
    "    policy[x][y] = '*'\n",
    "    while x != init[0] or y != init[1]:\n",
    "        x2 = x - dir_move[delta[action[x][y]]][0]\n",
    "        y2 = y - dir_move[delta[action[x][y]]][1]\n",
    "        policy[x2][y2] = delta_name[action[x][y]]\n",
    "        x = x2\n",
    "        y = y2\n",
    "    \n",
    "    return expand, policy\n",
    "    #return policy                       \n"
   ]
  },
  {
   "cell_type": "code",
   "execution_count": 12,
   "metadata": {
    "collapsed": false
   },
   "outputs": [
    {
     "name": "stdout",
     "output_type": "stream",
     "text": [
      "[6, 6]\n",
      "('Start', 0, 0)\n",
      "('Goal found', [30, 0, 30, 6, 6])\n"
     ]
    }
   ],
   "source": [
    "expand, policy = search(testmaze, init, cost, False)"
   ]
  },
  {
   "cell_type": "code",
   "execution_count": 13,
   "metadata": {
    "collapsed": false
   },
   "outputs": [
    {
     "name": "stdout",
     "output_type": "stream",
     "text": [
      "Expansions\n"
     ]
    },
    {
     "data": {
      "text/plain": [
       "array([[ 38,  43,  50,  77,  83,  90,  95,  98, 102, 108, 115, 123],\n",
       "       [ 32,  39,  44,  71,  78,  84,  91, 101,  99, 103, 110, 131],\n",
       "       [ 26,  33,  49,  67,  72,  79,  85,  92,  96, 107, 114, 137],\n",
       "       [ 20,  28,  57,  63,  68,  73,  80,  86, 119, 113, 121, 130],\n",
       "       [ 15,  23,  30,  36,  64,  69,  74, 133, 126, 120, 129, 122],\n",
       "       [ 11,  16,  24,  41,  58,  -1, 140, 138, 134, 128, 136, 116],\n",
       "       [  8,  22,  29,  35,  52,  -1,  -1, 132, 125, 135, 139, 111],\n",
       "       [  5,  27,  34,  40,  45,  54,  60, 124, 118, 127, 109, 105],\n",
       "       [  3,  21,  18,  14,  51,  47,  56,  62, 112, 106, 104, 100],\n",
       "       [  2,   4,   7,  10,  37,  42,  48,  66, 117,  87,  93,  97],\n",
       "       [  1,   6,  17,  13,  31,  46,  55,  61,  75,  81,  88,  94],\n",
       "       [  0,   9,  12,  19,  25,  53,  59,  65,  70,  76,  82,  89]])"
      ]
     },
     "execution_count": 13,
     "metadata": {},
     "output_type": "execute_result"
    }
   ],
   "source": [
    "print (\"Expansions\")\n",
    "np.rot90(expand)"
   ]
  },
  {
   "cell_type": "code",
   "execution_count": 14,
   "metadata": {
    "collapsed": false
   },
   "outputs": [
    {
     "name": "stdout",
     "output_type": "stream",
     "text": [
      "Policy\n"
     ]
    },
    {
     "data": {
      "text/plain": [
       "array([[' ', ' ', ' ', ' ', ' ', ' ', ' ', ' ', ' ', ' ', ' ', ' '],\n",
       "       [' ', ' ', ' ', ' ', ' ', ' ', ' ', ' ', ' ', ' ', ' ', ' '],\n",
       "       [' ', ' ', ' ', ' ', ' ', ' ', ' ', ' ', ' ', ' ', ' ', ' '],\n",
       "       [' ', ' ', ' ', ' ', ' ', ' ', ' ', ' ', ' ', ' ', ' ', ' '],\n",
       "       [' ', ' ', ' ', ' ', ' ', ' ', ' ', ' ', ' ', ' ', ' ', ' '],\n",
       "       [' ', ' ', ' ', ' ', ' ', ' ', '*', '<', ' ', ' ', ' ', ' '],\n",
       "       [' ', ' ', ' ', ' ', ' ', ' ', ' ', '^', '<', ' ', ' ', ' '],\n",
       "       [' ', ' ', ' ', ' ', ' ', ' ', ' ', ' ', '^', ' ', ' ', ' '],\n",
       "       [' ', ' ', ' ', ' ', ' ', ' ', ' ', ' ', '^', '<', '<', '<'],\n",
       "       ['>', 'v', ' ', ' ', '>', '>', 'v', ' ', ' ', ' ', ' ', '^'],\n",
       "       ['^', 'v', ' ', ' ', '^', ' ', '>', 'v', ' ', ' ', ' ', '^'],\n",
       "       ['^', '>', '>', '>', '^', ' ', ' ', '>', '>', '>', '>', '^']], \n",
       "      dtype='|S1')"
      ]
     },
     "execution_count": 14,
     "metadata": {},
     "output_type": "execute_result"
    }
   ],
   "source": [
    "print (\"Policy\")\n",
    "np.rot90(policy)"
   ]
  },
  {
   "cell_type": "code",
   "execution_count": 15,
   "metadata": {
    "collapsed": false
   },
   "outputs": [
    {
     "name": "stdout",
     "output_type": "stream",
     "text": [
      "[6, 6]\n",
      "('Start', 0, 0)\n",
      "('Goal found', [30, 0, 30, 6, 6])\n"
     ]
    }
   ],
   "source": [
    "expand, policy = search(testmaze, init, cost)"
   ]
  },
  {
   "cell_type": "code",
   "execution_count": 16,
   "metadata": {
    "collapsed": false
   },
   "outputs": [
    {
     "name": "stdout",
     "output_type": "stream",
     "text": [
      "Expansions\n"
     ]
    },
    {
     "data": {
      "text/plain": [
       "array([[ 73,  72,  71,  83,  84,  85,  88,  94,  -1,  -1,  -1,  -1],\n",
       "       [ 62,  57,  58,  77,  78,  79,  81,  90,  89,  95,  -1,  -1],\n",
       "       [ 43,  42,  59,  67,  65,  74,  75,  76,  82,  96,  -1,  -1],\n",
       "       [ 32,  33,  60,  61,  52,  63,  51,  64,  98,  97,  -1,  -1],\n",
       "       [ 19,  18,  16,  23,  37,  38,  39, 100,  99,  -1,  -1,  -1],\n",
       "       [  6,   7,   8,  15,  27,  -1, 102, 101,  -1,  -1,  -1,  -1],\n",
       "       [  5,  17,  13,  14,  26,  -1,  -1,  -1,  -1,  -1,  -1,  -1],\n",
       "       [  4,  31,  30,  24,  25,  28,  29,  -1,  -1,  -1,  -1,  -1],\n",
       "       [  3,  34,  20,  12,  41,  53,  40,  54,  -1,  -1,  -1,  -1],\n",
       "       [  2,   9,  10,  11,  48,  49,  50,  66,  -1,  93,  -1,  -1],\n",
       "       [  1,  22,  35,  21,  47,  56,  55,  69,  87,  92,  -1,  -1],\n",
       "       [  0,  36,  44,  45,  46,  70,  68,  80,  86,  91,  -1,  -1]])"
      ]
     },
     "execution_count": 16,
     "metadata": {},
     "output_type": "execute_result"
    }
   ],
   "source": [
    "print (\"Expansions\")\n",
    "np.rot90(expand)"
   ]
  },
  {
   "cell_type": "code",
   "execution_count": 17,
   "metadata": {
    "collapsed": false
   },
   "outputs": [
    {
     "name": "stdout",
     "output_type": "stream",
     "text": [
      "Policy\n"
     ]
    },
    {
     "data": {
      "text/plain": [
       "array([[' ', ' ', ' ', ' ', ' ', ' ', ' ', ' ', ' ', ' ', ' ', ' '],\n",
       "       [' ', ' ', ' ', ' ', ' ', ' ', ' ', ' ', '>', 'v', ' ', ' '],\n",
       "       [' ', ' ', ' ', ' ', ' ', ' ', ' ', '>', '^', 'v', ' ', ' '],\n",
       "       [' ', ' ', ' ', ' ', ' ', ' ', '>', '^', 'v', '<', ' ', ' '],\n",
       "       [' ', ' ', ' ', ' ', '>', '>', '^', 'v', '<', ' ', ' ', ' '],\n",
       "       ['>', '>', 'v', ' ', '^', ' ', '*', '<', ' ', ' ', ' ', ' '],\n",
       "       ['^', ' ', '>', 'v', '^', ' ', ' ', ' ', ' ', ' ', ' ', ' '],\n",
       "       ['^', ' ', ' ', '>', '^', ' ', ' ', ' ', ' ', ' ', ' ', ' '],\n",
       "       ['^', ' ', ' ', ' ', ' ', ' ', ' ', ' ', ' ', ' ', ' ', ' '],\n",
       "       ['^', ' ', ' ', ' ', ' ', ' ', ' ', ' ', ' ', ' ', ' ', ' '],\n",
       "       ['^', ' ', ' ', ' ', ' ', ' ', ' ', ' ', ' ', ' ', ' ', ' '],\n",
       "       ['^', ' ', ' ', ' ', ' ', ' ', ' ', ' ', ' ', ' ', ' ', ' ']], \n",
       "      dtype='|S1')"
      ]
     },
     "execution_count": 17,
     "metadata": {},
     "output_type": "execute_result"
    }
   ],
   "source": [
    "print (\"Policy\")\n",
    "np.rot90(policy)"
   ]
  },
  {
   "cell_type": "code",
   "execution_count": null,
   "metadata": {
    "collapsed": true
   },
   "outputs": [],
   "source": []
  }
 ],
 "metadata": {
  "kernelspec": {
   "display_name": "Python [conda env:capstone]",
   "language": "python",
   "name": "conda-env-capstone-py"
  },
  "language_info": {
   "codemirror_mode": {
    "name": "ipython",
    "version": 2
   },
   "file_extension": ".py",
   "mimetype": "text/x-python",
   "name": "python",
   "nbconvert_exporter": "python",
   "pygments_lexer": "ipython2",
   "version": "2.7.13"
  }
 },
 "nbformat": 4,
 "nbformat_minor": 1
}
